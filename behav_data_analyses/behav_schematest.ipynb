{
 "cells": [
  {
   "cell_type": "markdown",
   "metadata": {},
   "source": [
    "##### code that analyzes the schema test at the end of day 2"
   ]
  },
  {
   "cell_type": "code",
   "execution_count": null,
   "metadata": {},
   "outputs": [],
   "source": [
    "import pandas as pd\n",
    "import os\n",
    "import numpy as np\n",
    "import csv\n",
    "import matplotlib.pyplot as plt\n",
    "import seaborn\n",
    "import random"
   ]
  },
  {
   "cell_type": "markdown",
   "metadata": {},
   "source": [
    "# settings"
   ]
  },
  {
   "cell_type": "code",
   "execution_count": null,
   "metadata": {},
   "outputs": [],
   "source": [
    "NrSubj=44 #total number of subjects (subject 1, 16, 20, 21 removed because did not finish entire experiment)"
   ]
  },
  {
   "cell_type": "markdown",
   "metadata": {},
   "source": [
    "# calculate correct schema vs opposite schema vs other"
   ]
  },
  {
   "cell_type": "code",
   "execution_count": null,
   "metadata": {},
   "outputs": [],
   "source": [
    "\n",
    "meancorrect={}\n",
    "meanopposite={}\n",
    "\n",
    "j = 1\n",
    "\n",
    "for j in range(1,NrSubj): \n",
    "\n",
    "    subjId = j+1\n",
    "    \n",
    "    #exclude subj (did not finish day2)\n",
    "    if subjId == 16:\n",
    "        j += 1\n",
    "    elif subjId == 20:\n",
    "        j += 1\n",
    "    elif subjId == 21:\n",
    "        j += 1\n",
    "    else:\n",
    "        filePath = '/Volumes/norman/scollin/schema/data/behav/sub1%02dday2/' % subjId\n",
    "\n",
    "        fileName = '%s_schematest.csv' % subjId\n",
    "        fileToOpen = [filePath+fileName]\n",
    "\n",
    "        data=pd.read_csv(fileToOpen[0], usecols = ['answer1.history','answer2.history','answer3.history','answer4.history','answer5.history','answer6.history','answer.thisIndex','answer.thisN'])\n",
    "\n",
    "        sorteddata = data.sort_values('answer.thisIndex') #sorts data by values in column called answer.thisN\n",
    "\n",
    "        newdata = [] #empty list, where you put in variables(numbers, strings, or even lists)\n",
    "        for cell in sorteddata['answer1.history']:\n",
    "            newdata.append(cell.split(',')) #adds each cell in answer1.history (which holds a list) to the list, creating a list of lists\n",
    "        values =[] #empty list\n",
    "        for i in newdata:#accessing list in list called new data\n",
    "            values.append(i[-2]) #taking second to last number in each list\n",
    "        #so, values is a list of the second to last element in each list in a cell in answer1.history\n",
    "        newvalues1 = []\n",
    "        for i in values: \n",
    "            newvalues1.append(i.strip(' ()')) #taking off any characters that are not numbers\n",
    "        newervalues1 = []\n",
    "        for i in newvalues1:\n",
    "            newervalues1.append(int(i)) #making the string of a number into an actual number \n",
    "\n",
    "        newdata = [] #see above. this is happening for each answerN.history column\n",
    "        for cell in sorteddata['answer2.history']:\n",
    "            newdata.append(cell.split(','))\n",
    "        values =[]\n",
    "        for i in newdata:\n",
    "            values.append(i[-2])\n",
    "        newvalues2 = []\n",
    "        for i in values:\n",
    "            newvalues2.append(i.strip(' ()'))\n",
    "        newervalues2 = []\n",
    "        for i in newvalues2:\n",
    "            newervalues2.append(int(i))\n",
    "\n",
    "        newdata = []\n",
    "        for cell in sorteddata['answer3.history']:\n",
    "            newdata.append(cell.split(','))\n",
    "        values =[]\n",
    "        for i in newdata:\n",
    "            values.append(i[-2])\n",
    "        newvalues3 = []\n",
    "        for i in values:\n",
    "            newvalues3.append(i.strip(' ()'))\n",
    "        newervalues3 = []\n",
    "        for i in newvalues3:\n",
    "            newervalues3.append(int(i))\n",
    "\n",
    "        newdata = []\n",
    "        for cell in sorteddata['answer4.history']:\n",
    "            newdata.append(cell.split(','))\n",
    "        values =[]\n",
    "        for i in newdata:\n",
    "            values.append(i[-2])\n",
    "        newvalues4 = []\n",
    "        for i in values:\n",
    "            newvalues4.append(i.strip(' ()'))\n",
    "        newervalues4 = []\n",
    "        for i in newvalues4:\n",
    "            newervalues4.append(int(i))\n",
    "\n",
    "        newdata = []\n",
    "        for cell in sorteddata['answer5.history']:\n",
    "            newdata.append(cell.split(','))\n",
    "        values =[]\n",
    "        for i in newdata:\n",
    "            values.append(i[-2])\n",
    "        newvalues5 = []\n",
    "        for i in values:\n",
    "            newvalues5.append(i.strip(' ()'))\n",
    "        newervalues5 = []\n",
    "        for i in newvalues5:\n",
    "            newervalues5.append(int(i))\n",
    "\n",
    "        newdata = []\n",
    "        for cell in sorteddata['answer6.history']:\n",
    "            newdata.append(cell.split(','))\n",
    "        values =[]\n",
    "        for i in newdata:\n",
    "            values.append(i[-2])\n",
    "        newvalues6 = []\n",
    "        for i in values:\n",
    "            newvalues6.append(i.strip(' ()'))\n",
    "        newervalues6 = []\n",
    "        for i in newvalues6:\n",
    "            newervalues6.append(int(i))\n",
    "\n",
    "        # Put into Dictionary\n",
    "\n",
    "        d = {\n",
    "            'Answer 1': newervalues1,\n",
    "            'Answer 2': newervalues2,\n",
    "            'Answer 3': newervalues3,\n",
    "            'Answer 4': newervalues4,\n",
    "            'Answer 5': newervalues5,\n",
    "            'Answer 6': newervalues6,\n",
    "        }\n",
    "\n",
    "        # Convert into Dataframe\n",
    "\n",
    "        df = pd.DataFrame(data=d)\n",
    "\n",
    "        meancorrect0 = (df.loc[0,'Answer 3']/sum(df.loc[0,:]))*100\n",
    "        meancorrect1 = (df.loc[1,'Answer 4']/sum(df.loc[1,:]))*100\n",
    "        meancorrect2 = (df.loc[2,'Answer 5']/sum(df.loc[2,:]))*100\n",
    "        meancorrect3 = (df.loc[3,'Answer 6']/sum(df.loc[3,:]))*100\n",
    "        meancorrect4 = (df.loc[4,'Answer 4']/sum(df.loc[4,:]))*100\n",
    "        meancorrect5 = (df.loc[5,'Answer 3']/sum(df.loc[5,:]))*100\n",
    "        meancorrect6 = (df.loc[6,'Answer 6']/sum(df.loc[6,:]))*100\n",
    "        meancorrect7 = (df.loc[7,'Answer 5']/sum(df.loc[7,:]))*100\n",
    "\n",
    "        meanopposite0 = (df.loc[0,'Answer 4']/sum(df.loc[0,:]))*100\n",
    "        meanopposite1 = (df.loc[1,'Answer 3']/sum(df.loc[1,:]))*100\n",
    "        meanopposite2 = (df.loc[2,'Answer 6']/sum(df.loc[2,:]))*100\n",
    "        meanopposite3 = (df.loc[3,'Answer 5']/sum(df.loc[3,:]))*100\n",
    "        meanopposite4 = (df.loc[4,'Answer 3']/sum(df.loc[4,:]))*100\n",
    "        meanopposite5 = (df.loc[5,'Answer 4']/sum(df.loc[5,:]))*100\n",
    "        meanopposite6 = (df.loc[6,'Answer 5']/sum(df.loc[6,:]))*100\n",
    "        meanopposite7 = (df.loc[7,'Answer 6']/sum(df.loc[7,:]))*100\n",
    "\n",
    "        C = [meancorrect0, meancorrect1, meancorrect2, meancorrect3, meancorrect4, meancorrect5, meancorrect6, meancorrect7]\n",
    "        meancorrect[subjId] = np.mean(C)\n",
    "        #print('For correct responses, the mean is:', meancorrect)\n",
    "\n",
    "        O = [meanopposite0, meanopposite1, meanopposite2, meanopposite3, meanopposite4, meanopposite5, meanopposite6, meanopposite7]\n",
    "        meanopposite[subjId] = np.mean(O)\n",
    "        #print('For opposite responses, the mean is:', meanopposite)\n",
    "\n",
    "        j += 1"
   ]
  },
  {
   "cell_type": "code",
   "execution_count": null,
   "metadata": {},
   "outputs": [],
   "source": [
    "Correct = pd.DataFrame.from_dict(meancorrect, orient='index', columns=['Correct'])\n",
    "Opposite = pd.DataFrame.from_dict(meanopposite, orient='index', columns=['Opposite'])"
   ]
  },
  {
   "cell_type": "code",
   "execution_count": null,
   "metadata": {},
   "outputs": [],
   "source": [
    "# error gives nan for subject 6 because of error in data saving in the raw data file, \n",
    "# therefore data of subject 6 for this task manually analyzed and manually added to list\n",
    "Correct.iloc[4] = 87.5\n",
    "Opposite.iloc[4] = 12.5"
   ]
  },
  {
   "cell_type": "code",
   "execution_count": null,
   "metadata": {},
   "outputs": [],
   "source": [
    "RESULTS = pd.concat([Correct, Opposite], sort=False, axis=1)"
   ]
  },
  {
   "cell_type": "code",
   "execution_count": null,
   "metadata": {},
   "outputs": [],
   "source": [
    "RESULTS['Other'] = 100 - (RESULTS.Correct+RESULTS.Opposite)"
   ]
  },
  {
   "cell_type": "code",
   "execution_count": null,
   "metadata": {},
   "outputs": [],
   "source": [
    "# save file as csv\n",
    "fname='/Volumes/norman/scollin/schema/data/behav/results/Schematest.csv'\n",
    "RESULTS.to_csv(fname)"
   ]
  },
  {
   "cell_type": "code",
   "execution_count": null,
   "metadata": {},
   "outputs": [],
   "source": [
    "numpyRESULTS = np.array(RESULTS)\n",
    "pdRESULTS = pd.DataFrame(numpyRESULTS)"
   ]
  },
  {
   "cell_type": "code",
   "execution_count": null,
   "metadata": {},
   "outputs": [],
   "source": [
    "## DIVIDE \"OTHER\" BY 4 BECAUSE 4 ANSWER OPTIONS INSTEAD OF 1\n",
    "pdRESULTS[2] = pdRESULTS[2] / 4"
   ]
  },
  {
   "cell_type": "markdown",
   "metadata": {},
   "source": [
    "# plot"
   ]
  },
  {
   "cell_type": "code",
   "execution_count": null,
   "metadata": {},
   "outputs": [],
   "source": [
    "plt.figure(figsize=(5,10))\n",
    "\n",
    "plt.axhline(y=0, color='k')\n",
    "plt.axvline(x=0, color='k')\n",
    "\n",
    "for CurrSub in range(40):\n",
    "    plt.plot([random.random()+0.5],pdRESULTS[0][CurrSub], 'ko')\n",
    "    plt.plot([random.random()+2.5],pdRESULTS[1][CurrSub], 'ko')\n",
    "    plt.plot([random.random()+4.5],pdRESULTS[2][CurrSub], 'ko')\n",
    "\n",
    "plt.xticks([1, 3, 5], [\"correct\", \"opposite\", \"other\"], fontsize=18)\n",
    "# plt.yticks(np.arange(-0.15, 0.15, step=0.05), fontsize=18)\n",
    "# plt.ylim([-.15,.15])\n",
    "\n",
    "plt.ylabel('%', fontsize=18)\n",
    "plt.xlim([0,6])\n",
    "seaborn.despine(left=True, bottom=True, right=True)\n",
    "\n",
    "plt.bar([1,3,5],pdRESULTS.mean(axis=0), color='black',alpha=0.5)\n",
    "\n",
    "fname_paperFigure='/Volumes/norman/scollin/schema/data/behav/results/paperFigures/Schematest_barplot_withIndivResults.eps'\n",
    "\n",
    "plt.savefig(fname_paperFigure)"
   ]
  },
  {
   "cell_type": "code",
   "execution_count": null,
   "metadata": {},
   "outputs": [],
   "source": []
  }
 ],
 "metadata": {
  "kernelspec": {
   "display_name": "Python 3",
   "language": "python",
   "name": "python3"
  },
  "language_info": {
   "codemirror_mode": {
    "name": "ipython",
    "version": 3
   },
   "file_extension": ".py",
   "mimetype": "text/x-python",
   "name": "python",
   "nbconvert_exporter": "python",
   "pygments_lexer": "ipython3",
   "version": "3.7.4"
  }
 },
 "nbformat": 4,
 "nbformat_minor": 2
}
