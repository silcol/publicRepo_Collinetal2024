{
 "cells": [
  {
   "cell_type": "markdown",
   "metadata": {},
   "source": [
    "code to analyze the pretraining data (first task on day 2)"
   ]
  },
  {
   "cell_type": "code",
   "execution_count": null,
   "metadata": {},
   "outputs": [],
   "source": [
    "import pandas as pd\n",
    "import os\n",
    "import numpy as np\n",
    "import csv\n",
    "from statistics import mean\n",
    "from matplotlib import pyplot as plt"
   ]
  },
  {
   "cell_type": "code",
   "execution_count": null,
   "metadata": {},
   "outputs": [],
   "source": [
    "NrSubj=44 #total number of subjects (subject 1, 16, 20, 21 removed because did not finish entire experiment)"
   ]
  },
  {
   "cell_type": "code",
   "execution_count": null,
   "metadata": {},
   "outputs": [],
   "source": [
    "j = 1\n",
    "\n",
    "resultsMatrix3and4={}\n",
    "resultsMatrix4only={}\n",
    "\n",
    "for j in range(1,NrSubj): \n",
    "\n",
    "    subjId = j+1\n",
    "    \n",
    "    #exclude subj 1, 16, 20, 21 (did not finish expt, so are excluded)\n",
    "    if subjId == 16:\n",
    "        j += 1\n",
    "    elif subjId == 20:\n",
    "        j += 1\n",
    "    elif subjId == 21:\n",
    "        j += 1\n",
    "    else:\n",
    "        filePath = '/Volumes/norman/scollin/schema/data/behav/sub1%02dday2/' % subjId\n",
    "\n",
    "        fileName = 'sub1%02d_pretraining.csv' % subjId\n",
    "        fileToOpen = [filePath+fileName]\n",
    "\n",
    "        data=pd.read_csv(fileToOpen[0], usecols = ['blocknum','trialnum','response','correct','latency','stimulusnumber1','stimulusitem1'])\n",
    "\n",
    "        #sorteddata = data.sort_values('blocknum') #sorts data by values in column called answer.thisN\n",
    "        feedbackBlocksData3and4 = data.loc[48:]\n",
    "        resultsMatrix3and4[subjId] = feedbackBlocksData3and4['correct'].mean(axis = 0)\n",
    "        \n",
    "        feedbackBlocksData4only = data.loc[72:]\n",
    "        resultsMatrix4only[subjId] = feedbackBlocksData4only['correct'].mean(axis = 0)"
   ]
  },
  {
   "cell_type": "code",
   "execution_count": null,
   "metadata": {},
   "outputs": [],
   "source": [
    "fname='/Volumes/norman/scollin/schema/data/behav/results/pretraining_correctInFinalBlock.csv'\n",
    "\n",
    "with open(fname, 'w') as f:\n",
    "    for key in resultsMatrix4only.keys():\n",
    "        f.write(\"%s,%s\\n\"%(key,resultsMatrix4only[key]))"
   ]
  },
  {
   "cell_type": "code",
   "execution_count": null,
   "metadata": {},
   "outputs": [],
   "source": []
  }
 ],
 "metadata": {
  "kernelspec": {
   "display_name": "Python 3",
   "language": "python",
   "name": "python3"
  },
  "language_info": {
   "codemirror_mode": {
    "name": "ipython",
    "version": 3
   },
   "file_extension": ".py",
   "mimetype": "text/x-python",
   "name": "python",
   "nbconvert_exporter": "python",
   "pygments_lexer": "ipython3",
   "version": "3.7.4"
  }
 },
 "nbformat": 4,
 "nbformat_minor": 2
}
