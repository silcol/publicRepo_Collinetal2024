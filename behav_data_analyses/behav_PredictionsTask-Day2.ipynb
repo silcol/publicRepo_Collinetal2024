{
 "cells": [
  {
   "cell_type": "markdown",
   "metadata": {},
   "source": [
    "###### code that calculates performance on the stop-and-ask schema prediction questions during video viewing on day 2"
   ]
  },
  {
   "cell_type": "code",
   "execution_count": null,
   "metadata": {},
   "outputs": [],
   "source": [
    "import pandas as pd\n",
    "import os\n",
    "import numpy as np\n",
    "import ast\n",
    "import fnmatch\n",
    "import glob\n",
    "import matplotlib.pyplot as plt"
   ]
  },
  {
   "cell_type": "code",
   "execution_count": null,
   "metadata": {},
   "outputs": [],
   "source": [
    "path = '/Volumes/norman/scollin/schema/data/behav/sub*'\n",
    "\n",
    "files = [f for f in glob.glob(path + \"**/*_viewing.csv\", recursive=True)]\n",
    "\n",
    "filename_list = sorted(files)\n",
    "filename_list"
   ]
  },
  {
   "cell_type": "code",
   "execution_count": null,
   "metadata": {
    "scrolled": false
   },
   "outputs": [],
   "source": [
    "all_data = pd.DataFrame()\n",
    "for i in filename_list:\n",
    "    data = pd.read_csv(i, usecols = ['northOrSouth','stimFile2','key_resp_2.keys','key_resp_3.keys'])\n",
    "    all_data = pd.concat([all_data,data])\n",
    "#print(all_data)"
   ]
  },
  {
   "cell_type": "code",
   "execution_count": null,
   "metadata": {},
   "outputs": [],
   "source": [
    "def convert_line(line):\n",
    "    '''convert a string to a list, then extract the last element \n",
    "    \n",
    "    e.g.\n",
    "        ['2', '1'] -> 1\n",
    "        ['2'] -> 2\n",
    "        None -> 0\n",
    "        \n",
    "    '''\n",
    "    line_list = ast.literal_eval(line)\n",
    "    if line_list is None or 'NaN': \n",
    "        return 0\n",
    "    else:\n",
    "        return line_list[-1]\n",
    "    \n",
    "    \n",
    "def simplify_condition_string(condition_string1,condition_string2):\n",
    "    '''condsFile -> two-letter code \n",
    "    '''\n",
    "    new_name =''\n",
    "    if 'south' in condition_string1:\n",
    "        new_name+='S'\n",
    "    elif 'north' in condition_string1:\n",
    "        new_name+='N'\n",
    "    else:\n",
    "        raise ValueError('Neither S nor N is in the condition name')\n",
    "\n",
    "    if '2a' in condition_string2:\n",
    "        new_name+='A'\n",
    "    elif '2b' in condition_string2:\n",
    "        new_name+='B'\n",
    "    else:\n",
    "        raise ValueError('Neither A nor B is in the condition name')\n",
    "    return new_name\n",
    "\n",
    "def check_answer(schema_path, pred2, pred3):\n",
    "    correct = np.array([False, False])\n",
    "    if schema_path == 'SA':\n",
    "        if pred2 == '2': \n",
    "            correct[0] = True\n",
    "        if pred3 == '1':\n",
    "            correct[1] = True\n",
    "    elif schema_path == 'SB':\n",
    "        if pred2 == '1':\n",
    "            correct[0] = True\n",
    "        if pred3 == '2':\n",
    "            correct[1] = True\n",
    "    elif schema_path == 'NA':\n",
    "        if pred2 == '1':\n",
    "            correct[0] = True                    \n",
    "        if pred3 == '1':        \n",
    "            correct[1] = True        \n",
    "    elif schema_path == 'NB':\n",
    "        if pred2 == '2': \n",
    "            correct[0] = True                    \n",
    "        if pred3 == '2':                \n",
    "            correct[1] = True                    \n",
    "    return correct"
   ]
  },
  {
   "cell_type": "code",
   "execution_count": null,
   "metadata": {},
   "outputs": [],
   "source": [
    "BlockStarts = all_data.loc[[5]]\n",
    "BlockEnds = all_data.loc[[60]]"
   ]
  },
  {
   "cell_type": "code",
   "execution_count": null,
   "metadata": {},
   "outputs": [],
   "source": [
    "BlockStarts.replace(to_replace=['None'], value=np.nan, inplace=True)\n",
    "BlockEnds.replace(to_replace=['None'], value=np.nan, inplace=True)"
   ]
  },
  {
   "cell_type": "code",
   "execution_count": null,
   "metadata": {},
   "outputs": [],
   "source": [
    "BlockStarts = BlockStarts.fillna(\"['0']\")\n",
    "BlockEnds = BlockEnds.fillna(\"['0']\")"
   ]
  },
  {
   "cell_type": "code",
   "execution_count": null,
   "metadata": {},
   "outputs": [],
   "source": [
    "namesSt,key2St,key3St =[],[],[]\n",
    "for i, row in BlockStarts.iterrows():\n",
    "    # condition name \n",
    "    long_condition_string1 = row['northOrSouth']\n",
    "    long_condition_string2 = row['stimFile2']\n",
    "    short_condition_string = simplify_condition_string(long_condition_string1,long_condition_string2)\n",
    "    namesSt.append(short_condition_string)    \n",
    "    # prediction 2 \n",
    "    prediction2 = row['key_resp_2.keys']\n",
    "    \n",
    "    if len(prediction2) > 1:\n",
    "        prediction2 = ast.literal_eval(prediction2)\n",
    "        prediction2 = prediction2[-1]\n",
    "    else:\n",
    "        prediction2 = ast.literal_eval(prediction2)\n",
    "    \n",
    "    key2St.append(prediction2)\n",
    "    # prediction 3 \n",
    "    prediction3 = row['key_resp_3.keys']\n",
    "    \n",
    "    if len(prediction3) > 1:\n",
    "        prediction3 = ast.literal_eval(prediction3)\n",
    "        prediction3 = prediction3[-1]\n",
    "    else:\n",
    "        prediction3 = ast.literal_eval(prediction3)\n",
    "    \n",
    "    key3St.append(prediction3)    \n",
    "    \n",
    "#print(namesSt)\n",
    "#print(key2St)\n",
    "#print(key3St)"
   ]
  },
  {
   "cell_type": "code",
   "execution_count": null,
   "metadata": {},
   "outputs": [],
   "source": [
    "# build df \n",
    "\n",
    "dSt = {\n",
    "    'SchemaPath':namesSt,\n",
    "    'Prediction2':key2St,\n",
    "    'Prediction3':key3St\n",
    "}\n",
    "\n",
    "dfSt=pd.DataFrame(data=dSt)\n",
    "\n",
    "\n",
    "# check \"corrects\"\n",
    "\n",
    "dfSt_correct = pd.DataFrame(columns=dSt.keys(), dtype=object)\n",
    "for i, row in dfSt.iterrows():\n",
    "    correct = check_answer(row['SchemaPath'], row['Prediction2'], row['Prediction3'])\n",
    "    dfSt_correct.loc[i] = [row['SchemaPath'], int(correct[0]), int(correct[1])]"
   ]
  },
  {
   "cell_type": "code",
   "execution_count": null,
   "metadata": {},
   "outputs": [],
   "source": [
    "dfSt_correct.to_csv(r'/Volumes/norman/scollin/schema/data/behav/results/predictionsResults_StartWedd_Day2.csv')\n"
   ]
  },
  {
   "cell_type": "markdown",
   "metadata": {},
   "source": [
    "# final wedd of each block"
   ]
  },
  {
   "cell_type": "code",
   "execution_count": null,
   "metadata": {},
   "outputs": [],
   "source": [
    "namesEnd,key2End,key3End =[],[],[]\n",
    "for i, row in BlockEnds.iterrows():\n",
    "    long_condition_string1 = row['northOrSouth']\n",
    "    long_condition_string2 = row['stimFile2']\n",
    "    short_condition_string = simplify_condition_string(long_condition_string1,long_condition_string2)\n",
    "    namesEnd.append(short_condition_string)    \n",
    "    # prediction 2 \n",
    "    prediction2 = row['key_resp_2.keys']\n",
    "    \n",
    "    if len(prediction2) > 1:\n",
    "        prediction2 = ast.literal_eval(prediction2)\n",
    "        prediction2 = prediction2[-1]\n",
    "    else:\n",
    "        prediction2 = ast.literal_eval(prediction2)\n",
    "    \n",
    "    key2End.append(prediction2)\n",
    "    # prediction 3 \n",
    "    prediction3 = row['key_resp_3.keys']\n",
    "    \n",
    "    if len(prediction3) > 1:\n",
    "        prediction3 = ast.literal_eval(prediction3)\n",
    "        prediction3 = prediction3[-1]\n",
    "    else:\n",
    "        prediction3 = ast.literal_eval(prediction3)\n",
    "    \n",
    "    key3End.append(prediction3)    \n",
    "    \n",
    "#print(namesEnd)\n",
    "#print(key2End)\n",
    "#print(key3End)"
   ]
  },
  {
   "cell_type": "code",
   "execution_count": null,
   "metadata": {},
   "outputs": [],
   "source": [
    "# build df \n",
    "\n",
    "dEnd = {\n",
    "    'SchemaPath':namesEnd,\n",
    "    'Prediction2':key2End,\n",
    "    'Prediction3':key3End\n",
    "}\n",
    "\n",
    "dfEnd=pd.DataFrame(data=dEnd)\n",
    "\n",
    "\n",
    "# check \"corrects\"\n",
    "\n",
    "dfEnd_correct = pd.DataFrame(columns=dEnd.keys(), dtype=object)\n",
    "for i, row in dfEnd.iterrows():\n",
    "    correct = check_answer(row['SchemaPath'], row['Prediction2'], row['Prediction3'])\n",
    "    dfEnd_correct.loc[i] = [row['SchemaPath'], int(correct[0]), int(correct[1])]"
   ]
  },
  {
   "cell_type": "code",
   "execution_count": null,
   "metadata": {},
   "outputs": [],
   "source": [
    "dfEnd_correct.to_csv(r'/Volumes/norman/scollin/schema/data/behav/results/predictionsResults_EndWedd_Day2.csv')"
   ]
  },
  {
   "cell_type": "code",
   "execution_count": null,
   "metadata": {},
   "outputs": [],
   "source": [
    "ResultsTotalMatrix = pd.concat((dfSt_correct,dfEnd_correct), axis=1)"
   ]
  },
  {
   "cell_type": "code",
   "execution_count": null,
   "metadata": {},
   "outputs": [],
   "source": [
    "# remove schema path index\n",
    "del ResultsTotalMatrix['SchemaPath']"
   ]
  },
  {
   "cell_type": "code",
   "execution_count": null,
   "metadata": {},
   "outputs": [],
   "source": [
    "ResultsTotalMatrix['mean'] = ResultsTotalMatrix.mean(axis=1)"
   ]
  },
  {
   "cell_type": "code",
   "execution_count": null,
   "metadata": {},
   "outputs": [],
   "source": [
    "ResultsTotalMatrix = ResultsTotalMatrix.astype(float)"
   ]
  },
  {
   "cell_type": "markdown",
   "metadata": {},
   "source": [
    "save the mean for each participant"
   ]
  },
  {
   "cell_type": "code",
   "execution_count": null,
   "metadata": {},
   "outputs": [],
   "source": [
    "ResultsTotalMatrix = ResultsTotalMatrix.drop('Prediction2', axis=1)\n",
    "ResultsTotalMatrix = ResultsTotalMatrix.drop('Prediction3', axis=1)"
   ]
  },
  {
   "cell_type": "code",
   "execution_count": null,
   "metadata": {},
   "outputs": [],
   "source": [
    "ResultsTotalMatrix.to_csv(r'/Volumes/norman/scollin/schema/data/behav/results/SchemaPrediction_day2.csv')\n"
   ]
  }
 ],
 "metadata": {
  "kernelspec": {
   "display_name": "Python 3",
   "language": "python",
   "name": "python3"
  },
  "language_info": {
   "codemirror_mode": {
    "name": "ipython",
    "version": 3
   },
   "file_extension": ".py",
   "mimetype": "text/x-python",
   "name": "python",
   "nbconvert_exporter": "python",
   "pygments_lexer": "ipython3",
   "version": "3.7.4"
  }
 },
 "nbformat": 4,
 "nbformat_minor": 2
}
