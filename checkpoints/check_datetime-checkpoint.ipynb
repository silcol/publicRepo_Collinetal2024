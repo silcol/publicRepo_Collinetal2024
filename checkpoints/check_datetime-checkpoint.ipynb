{
 "cells": [
  {
   "cell_type": "code",
   "execution_count": 22,
   "metadata": {},
   "outputs": [
    {
     "name": "stdout",
     "output_type": "stream",
     "text": [
      "0\n",
      "50000\n",
      "100000\n",
      "150000\n"
     ]
    }
   ],
   "source": [
    "import os\n",
    "import time\n",
    "\n",
    "dir = \"/scratch/gpfs/rk1593/clustering_output/\"\n",
    "os.chdir(dir + \"searchlights_matrices/\")\n",
    "for index,file in enumerate(os.scandir(dir + \"searchlights_matrices/\")):\n",
    "    if index % 50000 == 0:\n",
    "        print(index)\n",
    "    file_name = file.name\n",
    "    if \".json\" in file_name:\n",
    "        day_of_week, month, day_of_month, time_of_day, year = time.ctime(os.path.getctime(file_name)).split()\n",
    "        if month != \"Jan\":\n",
    "            print(\"Error: month not Jan\")\n",
    "        if int(day_of_month) < 28:\n",
    "            print(int(day_of_month))\n",
    "            print(\"Error: less than Jan 28\")\n",
    "        if int(day_of_month) > 30:\n",
    "            print(int(day_of_month))\n",
    "            print(\"Error: greater than 30\")"
   ]
  },
  {
   "cell_type": "code",
   "execution_count": 24,
   "metadata": {},
   "outputs": [
    {
     "data": {
      "text/plain": [
       "['Sat', 'Jan', '29', '14:50:41', '2022']"
      ]
     },
     "execution_count": 24,
     "metadata": {},
     "output_type": "execute_result"
    }
   ],
   "source": [
    "time.ctime(os.path.getctime(file_name)).split()"
   ]
  },
  {
   "cell_type": "code",
   "execution_count": 5,
   "metadata": {},
   "outputs": [
    {
     "name": "stdout",
     "output_type": "stream",
     "text": [
      "Sat Jan 29 18:33:46 2022\n"
     ]
    }
   ],
   "source": [
    "print(day_of_week, month, day_of_month, time_of_day, year)"
   ]
  },
  {
   "cell_type": "code",
   "execution_count": null,
   "metadata": {},
   "outputs": [],
   "source": []
  }
 ],
 "metadata": {
  "kernelspec": {
   "display_name": "wedding_schema [~/.conda/envs/wedding_schema/]",
   "language": "python",
   "name": "conda_wedding_schema"
  },
  "language_info": {
   "codemirror_mode": {
    "name": "ipython",
    "version": 3
   },
   "file_extension": ".py",
   "mimetype": "text/x-python",
   "name": "python",
   "nbconvert_exporter": "python",
   "pygments_lexer": "ipython3",
   "version": "3.8.5"
  }
 },
 "nbformat": 4,
 "nbformat_minor": 4
}
